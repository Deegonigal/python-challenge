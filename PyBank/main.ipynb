{
 "cells": [
  {
   "cell_type": "code",
   "execution_count": 292,
   "metadata": {},
   "outputs": [],
   "source": [
    "import os\n",
    "import csv"
   ]
  },
  {
   "cell_type": "markdown",
   "metadata": {},
   "source": []
  },
  {
   "cell_type": "code",
   "execution_count": 293,
   "metadata": {},
   "outputs": [],
   "source": [
    "#Import CSV PyBank file\n",
    "csvpath = \"/Users/jenniferoliver/FML/python-challenge/PyBank/Resources/budget_data.csv\""
   ]
  },
  {
   "cell_type": "code",
   "execution_count": 294,
   "metadata": {},
   "outputs": [],
   "source": [
    "#Define variables\n",
    "total_months = 0\n",
    "tpl = 0\n",
    "dates = []\n",
    "plchange = [0]"
   ]
  },
  {
   "cell_type": "code",
   "execution_count": 320,
   "metadata": {},
   "outputs": [
    {
     "name": "stdout",
     "output_type": "stream",
     "text": [
      "50218777\n",
      "50495399\n",
      "49767266\n",
      "50620259\n",
      "51183980\n",
      "50648772\n",
      "51281121\n",
      "51107377\n",
      "52058118\n",
      "51272368\n",
      "50078235\n",
      "49488659\n",
      "48604738\n",
      "49048302\n",
      "49886189\n",
      "50967661\n",
      "51431694\n",
      "50365150\n",
      "50688996\n",
      "49882445\n",
      "50369498\n",
      "51498309\n",
      "52289707\n",
      "53029074\n",
      "52831249\n",
      "53497265\n",
      "54087036\n",
      "54576326\n",
      "54104887\n",
      "54225304\n",
      "54400651\n",
      "55256100\n",
      "55861295\n",
      "55626075\n",
      "55973213\n",
      "56271723\n",
      "56434977\n",
      "57576817\n",
      "58119447\n",
      "58219288\n",
      "58972053\n",
      "58719104\n",
      "59633528\n",
      "60313052\n",
      "60827429\n",
      "61289531\n",
      "61449313\n",
      "62328123\n",
      "61381375\n",
      "61721710\n",
      "62013742\n",
      "62516008\n",
      "62781860\n",
      "63632877\n",
      "63083262\n",
      "63373424\n",
      "64128815\n",
      "65202017\n",
      "65515017\n",
      "65756149\n",
      "66792738\n",
      "67646642\n",
      "67257710\n",
      "68240662\n",
      "68778421\n",
      "69326205\n",
      "68829991\n",
      "69684172\n",
      "70618891\n",
      "70330360\n",
      "70145977\n",
      "70805518\n",
      "69656395\n",
      "70012277\n",
      "70674561\n",
      "71193242\n",
      "70444986\n",
      "69534211\n",
      "70485438\n",
      "71383679\n",
      "70654675\n",
      "70542466\n",
      "71058779\n",
      "71665987\n",
      "72048526\n"
     ]
    }
   ],
   "source": [
    "#Initialize reader\n",
    "with open(csvpath, newline =\"\") as csvfile:\n",
    "    csvreader = csv.reader(csvfile,delimiter =',')\n",
    "    #Read first row\n",
    "    csv_header = next(csvreader)\n",
    "    #Print Header\n",
    "    #print(csv_header)\n",
    "    #Identify first row for calcs\n",
    "    fr = next(csvreader)\n",
    "    total_months += 1\n",
    "    tpl += int(fr[1])\n",
    "    #Go through each row and append resutls to variable\n",
    "    for row in csvreader:\n",
    "        dates.append(row[0])\n",
    "        # Begin with calculating total profit & loss\n",
    "        tpl = tpl + int(row[1])\n",
    "        print(tpl)"
   ]
  },
  {
   "cell_type": "code",
   "execution_count": null,
   "metadata": {},
   "outputs": [],
   "source": []
  },
  {
   "cell_type": "code",
   "execution_count": 321,
   "metadata": {},
   "outputs": [],
   "source": [
    "#Calculate total months\n",
    "Total_Months=len(dates)"
   ]
  },
  {
   "cell_type": "code",
   "execution_count": 322,
   "metadata": {},
   "outputs": [],
   "source": [
    "#Loop through all rows followig header\n"
   ]
  },
  {
   "cell_type": "code",
   "execution_count": 323,
   "metadata": {},
   "outputs": [
    {
     "name": "stdout",
     "output_type": "stream",
     "text": [
      "425\n"
     ]
    }
   ],
   "source": [
    "\n",
    "\n",
    "#Print total months\n",
    "print (Total_Months)"
   ]
  },
  {
   "cell_type": "markdown",
   "metadata": {},
   "source": []
  },
  {
   "cell_type": "code",
   "execution_count": 324,
   "metadata": {},
   "outputs": [],
   "source": [
    "#Calculate total amount of profits/losses over entire data set"
   ]
  },
  {
   "cell_type": "code",
   "execution_count": null,
   "metadata": {},
   "outputs": [],
   "source": []
  }
 ],
 "metadata": {
  "kernelspec": {
   "display_name": "base",
   "language": "python",
   "name": "python3"
  },
  "language_info": {
   "codemirror_mode": {
    "name": "ipython",
    "version": 3
   },
   "file_extension": ".py",
   "mimetype": "text/x-python",
   "name": "python",
   "nbconvert_exporter": "python",
   "pygments_lexer": "ipython3",
   "version": "3.11.5"
  },
  "orig_nbformat": 4
 },
 "nbformat": 4,
 "nbformat_minor": 2
}
